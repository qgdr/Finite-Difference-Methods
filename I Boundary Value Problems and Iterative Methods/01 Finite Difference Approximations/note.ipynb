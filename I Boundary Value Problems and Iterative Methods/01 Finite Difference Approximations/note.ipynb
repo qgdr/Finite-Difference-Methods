{
 "cells": [
  {
   "cell_type": "markdown",
   "metadata": {},
   "source": [
    "# Finite Difference Approximations 有限差分逼近\n",
    "\n",
    "我们的目标是逼近一个微分方程的解，即找到一个函数(或者这个函数的一些离散逼近)在给定空间和/或时间上，它的各阶导数之间满足特定的关系，且满足定义域上一定的边界条件。\n"
   ]
  },
  {
   "cell_type": "code",
   "execution_count": 1,
   "metadata": {},
   "outputs": [
    {
     "data": {
      "text/html": [
       "<pre style=\"white-space:pre;overflow-x:auto;line-height:normal;font-family:Menlo,'DejaVu Sans Mono',consolas,'Courier New',monospace\">Manim Community <span style=\"color: #008000; text-decoration-color: #008000\">v0.17.3</span>\n",
       "\n",
       "</pre>\n"
      ],
      "text/plain": [
       "Manim Community \u001b[32mv0.\u001b[0m\u001b[32m17.3\u001b[0m\n",
       "\n"
      ]
     },
     "metadata": {},
     "output_type": "display_data"
    }
   ],
   "source": [
    "from sympy import *\n",
    "import numpy as np\n",
    "import pandas as pd\n",
    "from manim import *\n",
    "\n",
    "import matplotlib.pyplot as plt\n",
    "config.media_width = \"100%\"\n",
    "config.verbosity = \"WARNING\"\n"
   ]
  },
  {
   "cell_type": "code",
   "execution_count": 2,
   "metadata": {},
   "outputs": [
    {
     "name": "stdout",
     "output_type": "stream",
     "text": [
      "u(x)\n"
     ]
    }
   ],
   "source": [
    "# Example 1.1\n",
    "\n",
    "x, h = symbols(\"x, h\")\n",
    "u = symbols(\"u\", cls=Function)\n",
    "print(u(x))"
   ]
  },
  {
   "cell_type": "code",
   "execution_count": 3,
   "metadata": {},
   "outputs": [
    {
     "name": "stdout",
     "output_type": "stream",
     "text": [
      "sin(x)\n"
     ]
    }
   ],
   "source": [
    "print(u(x).subs({u:\"sin\"}))"
   ]
  },
  {
   "cell_type": "code",
   "execution_count": 4,
   "metadata": {},
   "outputs": [
    {
     "name": "stderr",
     "output_type": "stream",
     "text": [
      "                                                                                                  \r"
     ]
    },
    {
     "data": {
      "text/html": [
       "<video src=\"media\\jupyter\\Exp11@2023-09-24@22-30-59.mp4\" controls autoplay loop style=\"max-width: 100%;\"  >\n",
       "      Your browser does not support the <code>video</code> element.\n",
       "    </video>"
      ],
      "text/plain": [
       "<IPython.core.display.Video object>"
      ]
     },
     "metadata": {},
     "output_type": "display_data"
    }
   ],
   "source": [
    "class Exp11(Scene):\n",
    "    def construct(self):\n",
    "        ax = Axes(x_range=[-1, 4, 1], y_range=[-1.5, 1.5]).add_coordinates()\n",
    "        curve = ax.plot(sin, color=RED)\n",
    "        self.play(Create(ax), Create(curve))\n",
    "        self.play(Write(Text(\"u(x)=sin(x)\", font_size=25).next_to(curve).shift(2*UP+4*LEFT)))\n",
    "        self.play(FadeIn(Dot(ax.coords_to_point(1, sin(1)), color=GREEN)))\n",
    "        self.play(Create(TangentLine(curve, 0.4, 8, color=BLUE_B)))\n",
    "        self.wait()\n",
    "\n",
    "\n",
    "%manim Exp11"
   ]
  },
  {
   "cell_type": "code",
   "execution_count": 5,
   "metadata": {},
   "outputs": [
    {
     "data": {
      "text/latex": [
       "$\\displaystyle - \\frac{d}{d x} u{\\left(x \\right)} + \\frac{- u{\\left(x \\right)} + u{\\left(h + x \\right)}}{h}$"
      ],
      "text/plain": [
       "-Derivative(u(x), x) + (-u(x) + u(h + x))/h"
      ]
     },
     "execution_count": 5,
     "metadata": {},
     "output_type": "execute_result"
    }
   ],
   "source": [
    "D_p = lambda u : (u(x+h)-u(x))/h\n",
    "res = D_p(u) - u(x).diff(x)\n",
    "res"
   ]
  },
  {
   "cell_type": "code",
   "execution_count": 6,
   "metadata": {},
   "outputs": [
    {
     "data": {
      "text/latex": [
       "$\\displaystyle \\left. \\frac{d}{d \\xi_{1}} u{\\left(\\xi_{1} \\right)} \\right|_{\\substack{ \\xi_{1}=x }} + \\frac{h \\left. \\frac{d^{2}}{d \\xi_{1}^{2}} u{\\left(\\xi_{1} \\right)} \\right|_{\\substack{ \\xi_{1}=x }}}{2} + \\frac{h^{2} \\left. \\frac{d^{3}}{d \\xi_{1}^{3}} u{\\left(\\xi_{1} \\right)} \\right|_{\\substack{ \\xi_{1}=x }}}{6} + O\\left(h^{3}\\right)$"
      ],
      "text/plain": [
       "Subs(Derivative(u(_xi_1), _xi_1), _xi_1, x) + h*Subs(Derivative(u(_xi_1), (_xi_1, 2)), _xi_1, x)/2 + h**2*Subs(Derivative(u(_xi_1), (_xi_1, 3)), _xi_1, x)/6 + O(h**3)"
      ]
     },
     "execution_count": 6,
     "metadata": {},
     "output_type": "execute_result"
    }
   ],
   "source": [
    "taylor = D_p(u).series(h, 0, 3)\n",
    "taylor"
   ]
  },
  {
   "cell_type": "code",
   "execution_count": 7,
   "metadata": {},
   "outputs": [
    {
     "data": {
      "text/latex": [
       "$\\displaystyle \\frac{3 u{\\left(x \\right)} + u{\\left(- 2 h + x \\right)} - 6 u{\\left(- h + x \\right)} + 2 u{\\left(h + x \\right)}}{6 h}$"
      ],
      "text/plain": [
       "(3*u(x) + u(-2*h + x) - 6*u(-h + x) + 2*u(h + x))/(6*h)"
      ]
     },
     "execution_count": 7,
     "metadata": {},
     "output_type": "execute_result"
    }
   ],
   "source": [
    "D_0 = lambda u : (u(x+h)-u(x-h))/(2*h)\n",
    "D_m = lambda u : (u(x)-u(x-h))/h\n",
    "D_3 = lambda u : (2*u(x+h)+3*u(x)-6*u(x-h)+u(x-2*h))/(6*h)\n",
    "D_3(u)"
   ]
  },
  {
   "cell_type": "code",
   "execution_count": 8,
   "metadata": {},
   "outputs": [
    {
     "data": {
      "text/plain": [
       "array([6.82069338e-05, 8.64914174e-06, 6.99413066e-08, 8.75403661e-09,\n",
       "       6.99793556e-11])"
      ]
     },
     "execution_count": 8,
     "metadata": {},
     "output_type": "execute_result"
    }
   ],
   "source": [
    "u = sin\n",
    "f0 = lambdify((x, h), D_0(u)-u(x).diff(), \"numpy\")\n",
    "fp = lambdify((x, h), D_p(u)-u(x).diff(), \"numpy\")\n",
    "fm = lambdify((x, h), D_m(u)-u(x).diff(), \"numpy\")\n",
    "f3 = lambdify((x, h), D_3(u)-u(x).diff(), \"numpy\")\n",
    "\n",
    "\n",
    "h_eval = np.array([.1, .05, .01, .005, .001])\n",
    "f3(1, h_eval)"
   ]
  },
  {
   "cell_type": "code",
   "execution_count": 9,
   "metadata": {},
   "outputs": [
    {
     "data": {
      "text/html": [
       "<div>\n",
       "<style scoped>\n",
       "    .dataframe tbody tr th:only-of-type {\n",
       "        vertical-align: middle;\n",
       "    }\n",
       "\n",
       "    .dataframe tbody tr th {\n",
       "        vertical-align: top;\n",
       "    }\n",
       "\n",
       "    .dataframe thead th {\n",
       "        text-align: right;\n",
       "    }\n",
       "</style>\n",
       "<table border=\"1\" class=\"dataframe\">\n",
       "  <thead>\n",
       "    <tr style=\"text-align: right;\">\n",
       "      <th></th>\n",
       "      <th>0</th>\n",
       "      <th>1</th>\n",
       "      <th>2</th>\n",
       "      <th>3</th>\n",
       "    </tr>\n",
       "  </thead>\n",
       "  <tbody>\n",
       "    <tr>\n",
       "      <th>0</th>\n",
       "      <td>-0.042939</td>\n",
       "      <td>0.041138</td>\n",
       "      <td>-9.000537e-04</td>\n",
       "      <td>6.820693e-05</td>\n",
       "    </tr>\n",
       "    <tr>\n",
       "      <th>1</th>\n",
       "      <td>-0.021257</td>\n",
       "      <td>0.020807</td>\n",
       "      <td>-2.250978e-04</td>\n",
       "      <td>8.649142e-06</td>\n",
       "    </tr>\n",
       "    <tr>\n",
       "      <th>2</th>\n",
       "      <td>-0.004216</td>\n",
       "      <td>0.004198</td>\n",
       "      <td>-9.004993e-06</td>\n",
       "      <td>6.994131e-08</td>\n",
       "    </tr>\n",
       "    <tr>\n",
       "      <th>3</th>\n",
       "      <td>-0.002106</td>\n",
       "      <td>0.002101</td>\n",
       "      <td>-2.251257e-06</td>\n",
       "      <td>8.754037e-09</td>\n",
       "    </tr>\n",
       "    <tr>\n",
       "      <th>4</th>\n",
       "      <td>-0.000421</td>\n",
       "      <td>0.000421</td>\n",
       "      <td>-9.005045e-08</td>\n",
       "      <td>6.997936e-11</td>\n",
       "    </tr>\n",
       "  </tbody>\n",
       "</table>\n",
       "</div>"
      ],
      "text/plain": [
       "          0         1             2             3\n",
       "0 -0.042939  0.041138 -9.000537e-04  6.820693e-05\n",
       "1 -0.021257  0.020807 -2.250978e-04  8.649142e-06\n",
       "2 -0.004216  0.004198 -9.004993e-06  6.994131e-08\n",
       "3 -0.002106  0.002101 -2.251257e-06  8.754037e-09\n",
       "4 -0.000421  0.000421 -9.005045e-08  6.997936e-11"
      ]
     },
     "execution_count": 9,
     "metadata": {},
     "output_type": "execute_result"
    }
   ],
   "source": [
    "table_1 =np.array([fp(1, h_eval), fm(1, h_eval), f0(1, h_eval), f3(1, h_eval)]).T\n",
    "df_1 = pd.DataFrame(table_1)\n",
    "df_1"
   ]
  },
  {
   "cell_type": "code",
   "execution_count": 10,
   "metadata": {},
   "outputs": [
    {
     "data": {
      "image/png": "[encoded data removed]",
      "text/plain": [
       "<Figure size 640x480 with 1 Axes>"
      ]
     },
     "metadata": {},
     "output_type": "display_data"
    }
   ],
   "source": [
    "plt.loglog(h_eval, np.abs(table_1), '-o')\n",
    "plt.show()"
   ]
  },
  {
   "cell_type": "markdown",
   "metadata": {},
   "source": [
    "## 1.1 Truncation errors 截断误差\n"
   ]
  },
  {
   "cell_type": "code",
   "execution_count": 11,
   "metadata": {},
   "outputs": [
    {
     "data": {
      "text/latex": [
       "$\\displaystyle u{\\left(h + x \\right)}$"
      ],
      "text/plain": [
       "u(h + x)"
      ]
     },
     "execution_count": 11,
     "metadata": {},
     "output_type": "execute_result"
    }
   ],
   "source": [
    "u = symbols('u', cls=Function)\n",
    "u(x+h)"
   ]
  },
  {
   "cell_type": "code",
   "execution_count": 12,
   "metadata": {},
   "outputs": [
    {
     "data": {
      "text/latex": [
       "$\\displaystyle u{\\left(x \\right)} + h \\left. \\frac{d}{d \\xi_{1}} u{\\left(\\xi_{1} \\right)} \\right|_{\\substack{ \\xi_{1}=x }} + \\frac{h^{2} \\left. \\frac{d^{2}}{d \\xi_{1}^{2}} u{\\left(\\xi_{1} \\right)} \\right|_{\\substack{ \\xi_{1}=x }}}{2} + \\frac{h^{3} \\left. \\frac{d^{3}}{d \\xi_{1}^{3}} u{\\left(\\xi_{1} \\right)} \\right|_{\\substack{ \\xi_{1}=x }}}{6} + O\\left(h^{4}\\right)$"
      ],
      "text/plain": [
       "u(x) + h*Subs(Derivative(u(_xi_1), _xi_1), _xi_1, x) + h**2*Subs(Derivative(u(_xi_1), (_xi_1, 2)), _xi_1, x)/2 + h**3*Subs(Derivative(u(_xi_1), (_xi_1, 3)), _xi_1, x)/6 + O(h**4)"
      ]
     },
     "execution_count": 12,
     "metadata": {},
     "output_type": "execute_result"
    }
   ],
   "source": [
    "u(x+h).series(h, 0, 4)"
   ]
  },
  {
   "cell_type": "markdown",
   "metadata": {},
   "source": [
    "## 1.2 Deriving finite difference approximations 推导有限差分近似\n",
    "\n",
    "两种视角，待定系数法和插值法得到的导数公式相同，等于\n",
    "$$\n",
    "\\begin{pmatrix}\n",
    "0 & 1 & 0\n",
    "\\end{pmatrix}\n",
    "\\begin{pmatrix}\n",
    "1 & 0 & 0 \\\\\n",
    "1 & -h_k & (-h_k)^2\\\\\n",
    "1 & -(h_{k-1}+h_k) & (-h_{k-1}-h_k)^2\\\\\n",
    "\\end{pmatrix}^{-1}\n",
    "\\begin{pmatrix}\n",
    "u(x_k) \\\\\n",
    "u(x_k-h_k) \\\\\n",
    "u(x_k-h_k-h_{k-1})\n",
    "\\end{pmatrix}\n",
    "$$"
   ]
  },
  {
   "cell_type": "markdown",
   "metadata": {},
   "source": [
    "## 1.5 A general approach to deriving the coefficients"
   ]
  },
  {
   "cell_type": "code",
   "execution_count": 13,
   "metadata": {},
   "outputs": [],
   "source": [
    "def fdcoeffV(k, xbar, x):\n",
    "    n = len(x)\n",
    "    b = np.zeros(n)\n",
    "    b[k] = 1\n",
    "\n",
    "    A = np.ones([n, n])\n",
    "    Dbar = x-xbar\n",
    "    for i in range(1, n):\n",
    "        A[i] = Dbar **i\n",
    "    # A = A.T\n",
    "    print(A)\n",
    "\n",
    "    # return b@np.linalg.inv(A)\n",
    "    return np.linalg.solve(A, b)"
   ]
  },
  {
   "cell_type": "code",
   "execution_count": 14,
   "metadata": {},
   "outputs": [
    {
     "name": "stdout",
     "output_type": "stream",
     "text": [
      "[[ 1.  1.  1.]\n",
      " [-2. -1.  0.]\n",
      " [ 4.  1.  0.]]\n"
     ]
    },
    {
     "data": {
      "text/plain": [
       "array([ 0.5, -2. ,  1.5])"
      ]
     },
     "execution_count": 14,
     "metadata": {},
     "output_type": "execute_result"
    }
   ],
   "source": [
    "x = np.array([1, 2, 3])\n",
    "\n",
    "fdcoeffV(1, 3, x)"
   ]
  },
  {
   "cell_type": "code",
   "execution_count": null,
   "metadata": {},
   "outputs": [],
   "source": []
  }
 ],
 "metadata": {
  "kernelspec": {
   "display_name": "base",
   "language": "python",
   "name": "python3"
  },
  "language_info": {
   "codemirror_mode": {
    "name": "ipython",
    "version": 3
   },
   "file_extension": ".py",
   "mimetype": "text/x-python",
   "name": "python",
   "nbconvert_exporter": "python",
   "pygments_lexer": "ipython3",
   "version": "3.10.12"
  },
  "orig_nbformat": 4
 },
 "nbformat": 4,
 "nbformat_minor": 2
}
