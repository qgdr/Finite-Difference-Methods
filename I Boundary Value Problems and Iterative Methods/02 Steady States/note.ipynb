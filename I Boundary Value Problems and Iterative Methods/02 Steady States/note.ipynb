{
 "cells": [
  {
   "cell_type": "markdown",
   "metadata": {},
   "source": [
    "# Steady States and Boundary Value Problems 稳态和边值问题"
   ]
  },
  {
   "cell_type": "code",
   "execution_count": 1,
   "metadata": {},
   "outputs": [
    {
     "data": {
      "text/html": [
       "<pre style=\"white-space:pre;overflow-x:auto;line-height:normal;font-family:Menlo,'DejaVu Sans Mono',consolas,'Courier New',monospace\">Manim Community <span style=\"color: #008000; text-decoration-color: #008000\">v0.17.3</span>\n",
       "\n",
       "</pre>\n"
      ],
      "text/plain": [
       "Manim Community \u001b[32mv0.\u001b[0m\u001b[32m17.3\u001b[0m\n",
       "\n"
      ]
     },
     "metadata": {},
     "output_type": "display_data"
    }
   ],
   "source": [
    "from sympy import *\n",
    "import numpy as np\n",
    "import pandas as pd\n",
    "from manim import *\n",
    "\n",
    "import matplotlib.pyplot as plt\n",
    "config.media_width = \"100%\"\n",
    "config.verbosity = \"WARNING\""
   ]
  },
  {
   "cell_type": "markdown",
   "metadata": {},
   "source": [
    "## 2.1 The heat equation 热方程\n",
    "\n",
    "$$\n",
    "u_t(x,t)=(\\kappa(x)u_x(x,t))_x+\\psi(x,t)\n",
    "$$\n",
    "也称**扩散方程**，*diffusiion equation*"
   ]
  },
  {
   "cell_type": "markdown",
   "metadata": {},
   "source": [
    "## 2.2 Boundary conditions 边界条件\n",
    "\n",
    "假设材料介质均匀，方程变为\n",
    "$$\n",
    "u_t(x,t)=\\kappa u_{xx}(x,t)+\\psi(x,t)\n",
    "$$"
   ]
  },
  {
   "cell_type": "markdown",
   "metadata": {},
   "source": [
    "## 2.11 Green’s functions and max-norm stability"
   ]
  },
  {
   "cell_type": "code",
   "execution_count": 8,
   "metadata": {},
   "outputs": [
    {
     "name": "stderr",
     "output_type": "stream",
     "text": [
      "                                                                                                 \r"
     ]
    },
    {
     "data": {
      "text/html": [
       "<video src=\"media\\jupyter\\GreenFun@2023-09-24@23-26-10.mp4\" controls autoplay loop style=\"max-width: 100%;\"  >\n",
       "      Your browser does not support the <code>video</code> element.\n",
       "    </video>"
      ],
      "text/plain": [
       "<IPython.core.display.Video object>"
      ]
     },
     "metadata": {},
     "output_type": "display_data"
    }
   ],
   "source": [
    "class GreenFun(Scene):\n",
    "    def construct(self):\n",
    "        m = 10\n",
    "        h = 1/(1+m)\n",
    "        ax = Axes(x_range=[-1/m, 1+1/m], y_range=[-h, h/2])\n",
    "        B = []\n",
    "        B.append(ax.plot(lambda x: 1-x, x_range=(0, 1), color=GREEN_A))\n",
    "        for j in range(1, m+1):\n",
    "            x_j = j*h\n",
    "            curve_1 = ax.plot(lambda x: h*(x_j-1)*x, x_range=(0, x_j), color=GREEN)\n",
    "            curve_2 = ax.plot(lambda x: h*(x-1)*x_j, x_range=(x_j, 1), color=GREEN)\n",
    "            curve = curve_1.append_points(curve_2.points)\n",
    "            B.append(curve)\n",
    "        B.append(ax.plot(lambda x: x, x_range=(0, 1), color=GREEN_A))\n",
    "\n",
    "        self.play(Create(ax))\n",
    "        B_i = iter(B)\n",
    "        b_1 = next(B_i)\n",
    "        self.play(FadeIn(b_1))\n",
    "        last = b_1\n",
    "        for b in B_i:\n",
    "            self.play(FadeOut(last), FadeIn(b), run_time=5/m)\n",
    "            last = b\n",
    "        self.play(FadeOut(last))\n",
    "        self.wait()\n",
    "        \n",
    "\n",
    "%manim GreenFun"
   ]
  },
  {
   "cell_type": "markdown",
   "metadata": {},
   "source": [
    "## 2.12 Neumann boundary conditions"
   ]
  },
  {
   "cell_type": "code",
   "execution_count": null,
   "metadata": {},
   "outputs": [],
   "source": []
  },
  {
   "cell_type": "markdown",
   "metadata": {},
   "source": [
    "## 2.15 A general linear second order equation\n",
    "\n",
    "$$\n",
    "a(x)u''(x)+b(x)u'(x) +c(x)u(x)=f(x)\n",
    "$$\n",
    "\n",
    "### Example 2.1\n",
    "\n",
    "$$\n",
    "(\\kappa(x)u'(x))'=f(x)\n",
    "$$\n",
    "$$\n",
    "\\kappa(x)u''(x)+\\kappa'(x)u'(x)=f(x)\n",
    "$$\n",
    "\n",
    "$$\n",
    "A=\\dfrac{1}{h^2}\n",
    "\\begin{bmatrix}\n",
    "-(k_{1/2}+k_{3/2}) & k_{3/2} \\\\\n",
    "k_{3/2}     &   -(k_{3/2}+k_{5/2})  &   k_{5/2} \\\\\n",
    "&  \\ddots   &   \\ddots   &   \\ddots \\\\\n",
    "& & k_{m-3/2}    &   -(k_{m-3/2}+k_{m-1/2})  &   k_{m-1/2} \\\\\n",
    "& & & k_{m-1/2}    &   -(k_{m-1/2}+k_{m+1/2}) \\\\\n",
    "\\end{bmatrix}\n",
    "$$"
   ]
  },
  {
   "cell_type": "code",
   "execution_count": null,
   "metadata": {},
   "outputs": [],
   "source": []
  }
 ],
 "metadata": {
  "kernelspec": {
   "display_name": "base",
   "language": "python",
   "name": "python3"
  },
  "language_info": {
   "codemirror_mode": {
    "name": "ipython",
    "version": 3
   },
   "file_extension": ".py",
   "mimetype": "text/x-python",
   "name": "python",
   "nbconvert_exporter": "python",
   "pygments_lexer": "ipython3",
   "version": "3.10.12"
  },
  "orig_nbformat": 4
 },
 "nbformat": 4,
 "nbformat_minor": 2
}
