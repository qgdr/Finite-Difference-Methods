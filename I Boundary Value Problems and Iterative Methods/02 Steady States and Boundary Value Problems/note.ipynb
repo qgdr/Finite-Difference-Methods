{
 "cells": [
  {
   "cell_type": "markdown",
   "metadata": {},
   "source": [
    "# Steady States and Boundary Value Problems 稳态和边值问题"
   ]
  },
  {
   "cell_type": "markdown",
   "metadata": {},
   "source": [
    "## 2.1 The heat equation 热方程\n",
    "\n",
    "$$\n",
    "u_t(x,t)=(\\kappa(x)u_x(x,t))_x+\\psi(x,t)\n",
    "$$\n",
    "也称**扩散方程**，*diffusiion equation*"
   ]
  },
  {
   "cell_type": "markdown",
   "metadata": {},
   "source": [
    "## 2.2 Boundary conditions 边界条件\n",
    "\n",
    "假设材料介质均匀，方程变为\n",
    "$$\n",
    "u_t(x,t)=\\kappa u_{xx}(x,t)+\\psi(x,t)\n",
    "$$"
   ]
  },
  {
   "cell_type": "markdown",
   "metadata": {},
   "source": [
    "## 2.3 The steady-state problem 稳态问题"
   ]
  },
  {
   "cell_type": "code",
   "execution_count": null,
   "metadata": {},
   "outputs": [],
   "source": []
  }
 ],
 "metadata": {
  "language_info": {
   "name": "python"
  },
  "orig_nbformat": 4
 },
 "nbformat": 4,
 "nbformat_minor": 2
}
